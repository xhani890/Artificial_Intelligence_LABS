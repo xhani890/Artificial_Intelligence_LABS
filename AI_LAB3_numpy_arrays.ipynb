{
  "nbformat": 4,
  "nbformat_minor": 0,
  "metadata": {
    "colab": {
      "provenance": []
    },
    "kernelspec": {
      "name": "python3",
      "display_name": "Python 3"
    },
    "language_info": {
      "name": "python"
    }
  },
  "cells": [
    {
      "cell_type": "markdown",
      "source": [
        "**Task 1: Create a list of following: 2, 6, 11, 24, 8, 45, 25, 60**"
      ],
      "metadata": {
        "id": "KxGOyK1e7478"
      }
    },
    {
      "cell_type": "code",
      "source": [
        "my_list = [2, 6, 11, 24, 8, 45, 25, 60]\n",
        "print(my_list)\n",
        "\n",
        "my_list = my_list[:-1]\n",
        "# b) Add 22 value at index 3 of the list\n",
        "my_list.insert(3, 22)\n",
        "\n",
        "# c) Create an ndarray object using this list\n",
        "import numpy as np\n",
        "my_array = np.array(my_list)\n"
      ],
      "metadata": {
        "id": "COIleErCyg7E",
        "colab": {
          "base_uri": "https://localhost:8080/"
        },
        "outputId": "099c7cf1-3bcd-473f-f93a-62f50f181553"
      },
      "execution_count": 14,
      "outputs": [
        {
          "output_type": "stream",
          "name": "stdout",
          "text": [
            "[2, 6, 11, 24, 8, 45, 25, 60]\n"
          ]
        }
      ]
    },
    {
      "cell_type": "markdown",
      "source": [
        "**Delete last element of the list**"
      ],
      "metadata": {
        "id": "Jckcs8Ft8WZ3"
      }
    },
    {
      "cell_type": "code",
      "source": [
        "my_list = [2, 6, 11, 24, 8, 45, 25, 60]\n",
        "my_list = my_list[:-1]\n",
        "print(my_list)"
      ],
      "metadata": {
        "colab": {
          "base_uri": "https://localhost:8080/"
        },
        "id": "ZWOLpwtB8jVi",
        "outputId": "c314c2d3-a56d-4413-df9e-fd3d01ec2c12"
      },
      "execution_count": 12,
      "outputs": [
        {
          "output_type": "stream",
          "name": "stdout",
          "text": [
            "[2, 6, 11, 24, 8, 45, 25]\n"
          ]
        }
      ]
    },
    {
      "cell_type": "markdown",
      "source": [
        "**Add 22 value at index 3 of the list**"
      ],
      "metadata": {
        "id": "P6uJ3CXK9lIK"
      }
    },
    {
      "cell_type": "code",
      "source": [
        "my_list = [2, 6, 11, 24, 8, 45, 25, 60]\n",
        "my_list.insert(3, 22)\n",
        "print(my_list)"
      ],
      "metadata": {
        "colab": {
          "base_uri": "https://localhost:8080/"
        },
        "id": "E-ScLqPP89Kn",
        "outputId": "4a8246c4-b89d-4b20-d0a1-1d5e65b9e447"
      },
      "execution_count": 11,
      "outputs": [
        {
          "output_type": "stream",
          "name": "stdout",
          "text": [
            "[2, 6, 11, 22, 24, 8, 45, 25, 60]\n"
          ]
        }
      ]
    },
    {
      "cell_type": "markdown",
      "source": [
        "**Create an ndarray object using this list**"
      ],
      "metadata": {
        "id": "ht1asw0e9uBZ"
      }
    },
    {
      "cell_type": "code",
      "source": [
        "import numpy as np\n",
        "my_list = [2, 6, 11, 24, 8, 45, 25, 60]\n",
        "my_array = np.array(my_list)\n",
        "print(my_array)"
      ],
      "metadata": {
        "colab": {
          "base_uri": "https://localhost:8080/"
        },
        "id": "84_Gi_0Q9xIh",
        "outputId": "efae3fc8-bb1e-4b24-8ee4-5dee1d499226"
      },
      "execution_count": 15,
      "outputs": [
        {
          "output_type": "stream",
          "name": "stdout",
          "text": [
            "[ 2  6 11 24  8 45 25 60]\n"
          ]
        }
      ]
    },
    {
      "cell_type": "markdown",
      "source": [
        "**Task 2: Create a 2-D array and a 3-D array. Split the 2-D array into three 2-D arrays along rows.**"
      ],
      "metadata": {
        "id": "T56unpQA-I7A"
      }
    },
    {
      "cell_type": "code",
      "source": [
        "import numpy as np\n",
        "\n",
        "my_2d_array = np.array([[10, 20, 30], [40, 50, 60], [70, 80, 90]])\n",
        "\n",
        "my_3d_array = np.array([[[1, 2, 3], [4, 5, 6]], [[7, 8, 9], [10, 11, 12]]])\n",
        "\n",
        "split_arrays = np.split(my_2d_array, 3, axis=0)\n",
        "\n",
        "print(\"\\nOriginal 2-D Array:\")\n",
        "print(my_2d_array)\n",
        "print(\"\\nOriginal 3-D Array:\")\n",
        "print(my_3d_array)\n",
        "\n",
        "for index, array in enumerate(split_arrays):\n",
        "    print(f\"\\nSplit Array {index + 1}:\\n{array}\")\n"
      ],
      "metadata": {
        "colab": {
          "base_uri": "https://localhost:8080/"
        },
        "id": "NMEbl70z-KPY",
        "outputId": "6a9be6af-8244-4eaa-dfa2-0a466610cf61"
      },
      "execution_count": 33,
      "outputs": [
        {
          "output_type": "stream",
          "name": "stdout",
          "text": [
            "\n",
            "Original 2-D Array:\n",
            "[[10 20 30]\n",
            " [40 50 60]\n",
            " [70 80 90]]\n",
            "\n",
            "Original 3-D Array:\n",
            "[[[ 1  2  3]\n",
            "  [ 4  5  6]]\n",
            "\n",
            " [[ 7  8  9]\n",
            "  [10 11 12]]]\n",
            "\n",
            "Split Array 1:\n",
            "[[10 20 30]]\n",
            "\n",
            "Split Array 2:\n",
            "[[40 50 60]]\n",
            "\n",
            "Split Array 3:\n",
            "[[70 80 90]]\n"
          ]
        }
      ]
    },
    {
      "cell_type": "markdown",
      "source": [
        "**Task 3: Find the indexes where the values are even**"
      ],
      "metadata": {
        "id": "elpNg0RaBJdE"
      }
    },
    {
      "cell_type": "code",
      "source": [
        "even_indexes = np.where(my_2d_array % 2 == 0)\n",
        "print(f\"\\nIndexes where values are even in the 2D array:\\n{even_indexes}\")"
      ],
      "metadata": {
        "colab": {
          "base_uri": "https://localhost:8080/"
        },
        "id": "aElJot4HBLi6",
        "outputId": "20328d4e-6a85-4a55-f476-57d0b3a09ebd"
      },
      "execution_count": 32,
      "outputs": [
        {
          "output_type": "stream",
          "name": "stdout",
          "text": [
            "\n",
            "Indexes where values are even in the 2D array:\n",
            "(array([0, 0, 0, 1, 1, 1, 2, 2, 2]), array([0, 1, 2, 0, 1, 2, 0, 1, 2]))\n"
          ]
        }
      ]
    },
    {
      "cell_type": "markdown",
      "source": [
        "**Task 4: Create a filter array that will return only values higher than 55**"
      ],
      "metadata": {
        "id": "XhS4QTXkCVnQ"
      }
    },
    {
      "cell_type": "code",
      "source": [
        "filter_array = my_2d_array > 55\n",
        "filtered_values = my_2d_array[filter_array]\n",
        "\n",
        "print(f\"\\nValues higher than 55 in the 2D array:\\n{filtered_values}\")"
      ],
      "metadata": {
        "colab": {
          "base_uri": "https://localhost:8080/"
        },
        "id": "C9RwIYM_CXH3",
        "outputId": "d16b4c33-95a3-4abe-ea5f-57df55bac167"
      },
      "execution_count": 31,
      "outputs": [
        {
          "output_type": "stream",
          "name": "stdout",
          "text": [
            "\n",
            "Values higher than 55 in the 2D array:\n",
            "[60 70 80 90]\n"
          ]
        }
      ]
    },
    {
      "cell_type": "markdown",
      "source": [
        "**Task 5: Create a 3x3 matrix with values ranging from 2 to 10, convert the array to a float type. Write a Python program to find the maximum and minimum value of the flattened array.**"
      ],
      "metadata": {
        "id": "-AKx9V0rGhcj"
      }
    },
    {
      "cell_type": "code",
      "source": [
        "matrix_3x3 = np.arange(2, 11).reshape(3, 3)\n",
        "\n",
        "print(f\"\\n3x3 Matrix with values ranging from 2 to 10:\\n{matrix_3x3}\")\n",
        "\n",
        "matrix_3x3_float = matrix_3x3.astype(float)\n",
        "\n",
        "print(f\"\\n3x3 Matrix converted to float type:\\n{matrix_3x3_float}\")\n",
        "\n",
        "max_value = np.max(matrix_3x3_float)\n",
        "min_value = np.min(matrix_3x3_float)\n",
        "\n",
        "print(f\"\\nMaximum value of the flattened array: {max_value}\")\n",
        "print(f\"Minimum value of the flattened array: {min_value}\")\n"
      ],
      "metadata": {
        "colab": {
          "base_uri": "https://localhost:8080/"
        },
        "id": "49I4kmpmGlop",
        "outputId": "730ae18b-e533-4036-84ba-a06b83739222"
      },
      "execution_count": 37,
      "outputs": [
        {
          "output_type": "stream",
          "name": "stdout",
          "text": [
            "\n",
            "3x3 Matrix with values ranging from 2 to 10:\n",
            "[[ 2  3  4]\n",
            " [ 5  6  7]\n",
            " [ 8  9 10]]\n",
            "\n",
            "3x3 Matrix converted to float type:\n",
            "[[ 2.  3.  4.]\n",
            " [ 5.  6.  7.]\n",
            " [ 8.  9. 10.]]\n",
            "\n",
            "Maximum value of the flattened array: 10.0\n",
            "Minimum value of the flattened array: 2.0\n"
          ]
        }
      ]
    }
  ]
}