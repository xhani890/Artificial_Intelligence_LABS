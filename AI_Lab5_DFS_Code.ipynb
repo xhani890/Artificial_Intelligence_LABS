{
  "nbformat": 4,
  "nbformat_minor": 0,
  "metadata": {
    "colab": {
      "provenance": []
    },
    "kernelspec": {
      "name": "python3",
      "display_name": "Python 3"
    },
    "language_info": {
      "name": "python"
    }
  },
  "cells": [
    {
      "cell_type": "markdown",
      "source": [
        "**DFS**"
      ],
      "metadata": {
        "id": "9VJAGfAOaepo"
      }
    },
    {
      "cell_type": "code",
      "execution_count": null,
      "metadata": {
        "colab": {
          "base_uri": "https://localhost:8080/"
        },
        "id": "cIHDH5XOxYuf",
        "outputId": "76a24a05-2160-436c-c347-8befab3318b0"
      },
      "outputs": [
        {
          "output_type": "stream",
          "name": "stdout",
          "text": [
            "Following is the Depth-first search: [0, 2, 1, 3, 4]\n"
          ]
        }
      ],
      "source": [
        "def dfs(node, graph, visited, component):\n",
        "    component.append(node)\n",
        "    visited[node] = True\n",
        "    for child in graph[node]:\n",
        "        if not visited[child]:\n",
        "            dfs(child, graph, visited, component)\n",
        "\n",
        "if __name__ == \"__main__\":\n",
        "\n",
        "\n",
        "    graph = {\n",
        "        0: [2],\n",
        "        1: [2, 3],\n",
        "        2: [0, 1, 4],\n",
        "        3: [1, 4],\n",
        "        4: [2, 3]\n",
        "    }\n",
        "    node = 0\n",
        "    visited = [False]*len(graph)\n",
        "    component = []\n",
        "    dfs(node, graph, visited, component)\n",
        "    print(f\"Following is the Depth-first search: {component}\")\n"
      ]
    }
  ]
}