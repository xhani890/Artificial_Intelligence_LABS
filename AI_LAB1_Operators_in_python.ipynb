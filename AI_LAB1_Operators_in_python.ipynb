{
  "nbformat": 4,
  "nbformat_minor": 0,
  "metadata": {
    "colab": {
      "provenance": []
    },
    "kernelspec": {
      "name": "python3",
      "display_name": "Python 3"
    },
    "language_info": {
      "name": "python"
    }
  },
  "cells": [
    {
      "cell_type": "markdown",
      "source": [
        "\n",
        "\n",
        "*   **Name**: \n",
        "*   \n",
        "\n",
        "\n"
      ],
      "metadata": {
        "id": "QQ0XdAi0yaAN"
      }
    },
    {
      "cell_type": "code",
      "source": [
        "\n",
        "x = 10\n",
        "y = 5\n",
        "\n",
        "# Addition\n",
        "print(x + y)\n",
        "\n",
        "# Subtraction\n",
        "print(x - y)\n",
        "\n",
        "# Multiplication\n",
        "print(x * y)\n",
        "\n",
        "# Division\n",
        "print(x / y)\n",
        "\n",
        "# Floor division\n",
        "print(x // y)\n",
        "\n",
        "# Modulo\n",
        "print(x % y)\n",
        "\n",
        "# Exponentiation\n",
        "print(x ** y)\n",
        "\n",
        "# Assignment operators\n",
        "a = 10\n",
        "a = a+5\n",
        "print(a)\n",
        "a = a-5\n",
        "print(a)\n",
        "a =a*5\n",
        "print(a)\n",
        "a =a/5\n",
        "print(a)\n",
        "a =a// 5\n",
        "print(a)\n",
        "a =a% 5\n",
        "print(a)\n",
        "a =a** 5\n",
        "print(a)\n",
        "\n",
        "# Comparison operators\n",
        "x = 10\n",
        "y = 5\n",
        "\n",
        "# Equal to\n",
        "print(x == y)\n",
        "\n",
        "# Not equal to\n",
        "print(x != y)\n",
        "\n",
        "# Greater than\n",
        "print(x > y)\n",
        "\n",
        "# Less than\n",
        "print(x < y)\n",
        "\n",
        "# Greater than or equal to\n",
        "print(x >= y)\n",
        "\n",
        "# Less than or equal to\n",
        "print(x <= y)\n",
        "\n",
        "# Logical operators\n",
        "x = True\n",
        "y = False\n",
        "\n",
        "# AND\n",
        "print(x and y)\n",
        "\n",
        "# OR\n",
        "print(x or y)\n",
        "\n",
        "# NOT\n",
        "print(not x)\n"
      ],
      "metadata": {
        "id": "Ww0zjUxZ3sR-",
        "colab": {
          "base_uri": "https://localhost:8080/"
        },
        "outputId": "5c32d83d-f138-4f92-c395-6674b3e5a65e"
      },
      "execution_count": 5,
      "outputs": [
        {
          "output_type": "stream",
          "name": "stdout",
          "text": [
            "15\n",
            "5\n",
            "50\n",
            "2.0\n",
            "2\n",
            "0\n",
            "100000\n",
            "15\n",
            "10\n",
            "50\n",
            "10.0\n",
            "2.0\n",
            "2.0\n",
            "32.0\n",
            "False\n",
            "True\n",
            "True\n",
            "False\n",
            "True\n",
            "False\n",
            "False\n",
            "True\n",
            "False\n"
          ]
        }
      ]
    }
  ]
}
