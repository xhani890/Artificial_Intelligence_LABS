{
  "nbformat": 4,
  "nbformat_minor": 0,
  "metadata": {
    "colab": {
      "provenance": []
    },
    "kernelspec": {
      "name": "python3",
      "display_name": "Python 3"
    },
    "language_info": {
      "name": "python"
    }
  },
  "cells": [
    {
      "cell_type": "markdown",
      "source": [
        "**Tic Tac Toe Game Evaluation Function of Minimax Algorithm**"
      ],
      "metadata": {
        "id": "ofQggmUoO7Gg"
      }
    },
    {
      "cell_type": "code",
      "execution_count": 38,
      "metadata": {
        "colab": {
          "base_uri": "https://localhost:8080/"
        },
        "id": "jUzrQAXyOsGZ",
        "outputId": "bf7f64af-4915-4b9e-ec63-79b9f7d0a586"
      },
      "outputs": [
        {
          "output_type": "stream",
          "name": "stdout",
          "text": [
            "The value of this board is 10\n"
          ]
        }
      ],
      "source": [
        "def evaluate(b):\n",
        "\n",
        "\t# Checking for Rows for X or O victory.\n",
        "\tfor row in range(0, 3):\n",
        "\n",
        "\t\tif b[row][0] == b[row][1] and b[row][1] == b[row][2]:\n",
        "\n",
        "\t\t\tif b[row][0] == 'x':\n",
        "\t\t\t\treturn 10\n",
        "\t\t\telif b[row][0] == 'o':\n",
        "\t\t\t\treturn -10\n",
        "\n",
        "\t# Checking for Columns for X or O victory.\n",
        "\tfor col in range(0, 3):\n",
        "\n",
        "\t\tif b[0][col] == b[1][col] and b[1][col] == b[2][col]:\n",
        "\n",
        "\t\t\tif b[0][col]=='x':\n",
        "\t\t\t\treturn 10\n",
        "\t\t\telif b[0][col] == 'o':\n",
        "\t\t\t\treturn -10\n",
        "\n",
        "\t# Checking for Diagonals for X or O victory.\n",
        "\tif b[0][0] == b[1][1] and b[1][1] == b[2][2]:\n",
        "\n",
        "\t\tif b[0][0] == 'x':\n",
        "\t\t\treturn 10\n",
        "\t\telif b[0][0] == 'o':\n",
        "\t\t\treturn -10\n",
        "\n",
        "\tif b[0][2] == b[1][1] and b[1][1] == b[2][0]:\n",
        "\n",
        "\t\tif b[0][2] == 'x':\n",
        "\t\t\treturn 10\n",
        "\t\telif b[0][2] == 'o':\n",
        "\t\t\treturn -10\n",
        "\n",
        "\t# Else if none of them have won then return 0\n",
        "\treturn 0\n",
        "\n",
        "# Driver code\n",
        "if __name__ == \"__main__\":\n",
        "\n",
        "\tboard = [['x', '_', 'o'],\n",
        "\t\t\t    ['x', 'o', 'o'],\n",
        "\t\t\t    ['x', '_', '_']]\n",
        "\n",
        "\tvalue = evaluate(board)\n",
        "\tprint(\"The value of this board is\", value)\n"
      ]
    }
  ]
}