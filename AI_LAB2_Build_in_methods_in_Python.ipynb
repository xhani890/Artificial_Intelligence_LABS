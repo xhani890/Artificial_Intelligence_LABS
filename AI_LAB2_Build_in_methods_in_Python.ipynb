{
  "nbformat": 4,
  "nbformat_minor": 0,
  "metadata": {
    "colab": {
      "provenance": []
    },
    "kernelspec": {
      "name": "python3",
      "display_name": "Python 3"
    },
    "language_info": {
      "name": "python"
    }
  },
  "cells": [
    {
      "cell_type": "markdown",
      "source": [
        "**Access List**"
      ],
      "metadata": {
        "id": "_SWtpcyByVe-"
      }
    },
    {
      "cell_type": "code",
      "execution_count": null,
      "metadata": {
        "colab": {
          "base_uri": "https://localhost:8080/"
        },
        "id": "ShG4GeQ0t3OD",
        "outputId": "6b2d8a84-1916-4d39-9d07-c1a7b7213c14"
      },
      "outputs": [
        {
          "output_type": "stream",
          "name": "stdout",
          "text": [
            "The list include ['Burger', 'Coffee', 'Fries', 'Pizza']\n",
            "The Range output ['Coffee', 'Fries']\n",
            "The index output Coffee\n",
            "Negative value Fries\n"
          ]
        }
      ],
      "source": [
        "Food= [\"Burger\",\"Coffee\",\"Fries\",\"Pizza\"]\n",
        "print(\"The list include\",Food)\n",
        "print(\"The Range output\",Food[1:3])\n",
        "print(\"The index output\", Food[1])\n",
        "print(\"Negative value\", Food[-2])"
      ]
    },
    {
      "cell_type": "markdown",
      "source": [
        "**Change List**"
      ],
      "metadata": {
        "id": "WFOnK_RlymFJ"
      }
    },
    {
      "cell_type": "code",
      "source": [
        "Food= [\"Burger\",\"Coffee\",\"Fries\",\"Pizza\"]\n",
        "Food [2]= \"Cold Drink\"\n",
        "print(Food)"
      ],
      "metadata": {
        "colab": {
          "base_uri": "https://localhost:8080/"
        },
        "id": "Of8EuvEKybd1",
        "outputId": "7d5e1af6-02a9-41d6-80c5-a724c85f6fb8"
      },
      "execution_count": null,
      "outputs": [
        {
          "output_type": "stream",
          "name": "stdout",
          "text": [
            "['Burger', 'Coffee', 'Cold Drink', 'Pizza']\n"
          ]
        }
      ]
    },
    {
      "cell_type": "markdown",
      "source": [
        "**Add List Item**"
      ],
      "metadata": {
        "id": "lAh7gYbCzPxg"
      }
    },
    {
      "cell_type": "code",
      "source": [
        "Food= [\"Burger\",\"Coffee\",\"Fries\",\"Pizza\"]\n",
        "Food.append(\"Cold Drink\")\n",
        "print(\"Adding Using append\",Food)\n",
        "Food.insert(2,\"Milk Shake\")\n",
        "print(\"adding using insert\",Food)"
      ],
      "metadata": {
        "colab": {
          "base_uri": "https://localhost:8080/"
        },
        "id": "-j0--YLxzSqI",
        "outputId": "149e6743-33ce-4c4f-a6a3-a20cb2f1e885"
      },
      "execution_count": null,
      "outputs": [
        {
          "output_type": "stream",
          "name": "stdout",
          "text": [
            "Adding Using append ['Burger', 'Coffee', 'Fries', 'Pizza', 'Cold Drink']\n",
            "adding using insert ['Burger', 'Coffee', 'Milk Shake', 'Fries', 'Pizza', 'Cold Drink']\n"
          ]
        }
      ]
    },
    {
      "cell_type": "markdown",
      "source": [
        "**Remove List Items**"
      ],
      "metadata": {
        "id": "_CyPbDGP1G91"
      }
    },
    {
      "cell_type": "code",
      "source": [
        "Food = [\"Burger\", \"Coffee\", \"Milk Shake\", \"Fries\", \"Pizza\", \"Cold Drink\"]\n",
        "Food.remove(\"Fries\")\n",
        "print(\"Using remove\",Food)"
      ],
      "metadata": {
        "colab": {
          "base_uri": "https://localhost:8080/"
        },
        "id": "Msz07uPI1dlg",
        "outputId": "e4f5cd77-4969-4b8d-b832-14be59f708d0"
      },
      "execution_count": null,
      "outputs": [
        {
          "output_type": "stream",
          "name": "stdout",
          "text": [
            "Using remove ['Burger', 'Coffee', 'Milk Shake', 'Pizza', 'Cold Drink']\n"
          ]
        }
      ]
    },
    {
      "cell_type": "markdown",
      "source": [
        "**Loop List**"
      ],
      "metadata": {
        "id": "WZIj4zYS2DCX"
      }
    },
    {
      "cell_type": "code",
      "source": [
        "Food = [\"Burger\", \"Coffee\", \"Milk Shake\", \"Fries\", \"Pizza\", \"Cold Drink\"]\n",
        "for x in Food:\n",
        "  print(\"Printing all using for loop\",x)\n",
        "for i in range(len(Food)):\n",
        "  print(\"Index\",Food[i])"
      ],
      "metadata": {
        "colab": {
          "base_uri": "https://localhost:8080/"
        },
        "id": "hw1VxaFG2P4E",
        "outputId": "badd92b1-2341-4fa4-c6e8-3db08bc7e662"
      },
      "execution_count": null,
      "outputs": [
        {
          "output_type": "stream",
          "name": "stdout",
          "text": [
            "Printing all using for loop Burger\n",
            "Printing all using for loop Coffee\n",
            "Printing all using for loop Milk Shake\n",
            "Printing all using for loop Fries\n",
            "Printing all using for loop Pizza\n",
            "Printing all using for loop Cold Drink\n",
            "Index Burger\n",
            "Index Coffee\n",
            "Index Milk Shake\n",
            "Index Fries\n",
            "Index Pizza\n",
            "Index Cold Drink\n"
          ]
        }
      ]
    },
    {
      "cell_type": "markdown",
      "source": [
        "**Sort List**"
      ],
      "metadata": {
        "id": "KMmQc8Rt9OA8"
      }
    },
    {
      "cell_type": "code",
      "source": [
        "Food = [\"Burger\", \"Coffee\", \"Milk Shake\", \"Fries\", \"Pizza\", \"Cold Drink\"]\n",
        "print(\"Before sorting\",Food)\n",
        "Food.sort()\n",
        "print(\"After Sorting\",Food)"
      ],
      "metadata": {
        "colab": {
          "base_uri": "https://localhost:8080/"
        },
        "id": "TiUD0mMK-SCk",
        "outputId": "567d6a01-9167-46f3-cae0-ebfd98b47fed"
      },
      "execution_count": null,
      "outputs": [
        {
          "output_type": "stream",
          "name": "stdout",
          "text": [
            "Before sorting ['Burger', 'Coffee', 'Milk Shake', 'Fries', 'Pizza', 'Cold Drink']\n",
            "After Sorting ['Burger', 'Coffee', 'Cold Drink', 'Fries', 'Milk Shake', 'Pizza']\n"
          ]
        }
      ]
    },
    {
      "cell_type": "markdown",
      "source": [
        "**Copy List**"
      ],
      "metadata": {
        "id": "rennJZj3-oO5"
      }
    },
    {
      "cell_type": "code",
      "source": [
        "Food = [\"Burger\", \"Coffee\", \"Milk Shake\", \"Fries\", \"Pizza\", \"Cold Drink\"]\n",
        "FastFood = Food.copy()\n",
        "print(\"Copying of list\",FastFood)"
      ],
      "metadata": {
        "id": "aHNL9Xt0-qXA"
      },
      "execution_count": null,
      "outputs": []
    },
    {
      "cell_type": "markdown",
      "source": [
        "**Join List**"
      ],
      "metadata": {
        "id": "5oxFayht_cbD"
      }
    },
    {
      "cell_type": "code",
      "source": [
        "Food = [\"Burger\", \"Coffee\", \"Milk Shake\", \"Fries\", \"Pizza\", \"Cold Drink\"]\n",
        "DesiFood = [\"Pratha\", \"Chai\", \"lassi\", \"Chips\", \"Daal\", \"Ice cream\"]\n",
        "FoodList = Food+DesiFood\n",
        "print(\"Joining lists\", FoodList)"
      ],
      "metadata": {
        "id": "sPqnw99G_jRO"
      },
      "execution_count": null,
      "outputs": []
    },
    {
      "cell_type": "markdown",
      "source": [
        "**Daily Tasks App**"
      ],
      "metadata": {
        "id": "cZDilU9fBICh"
      }
    },
    {
      "cell_type": "code",
      "source": [
        "tasks = [\"Read a book\", \"Write code\", \"Exercise\"]\n",
        "\n",
        "while True:\n",
        "    print(\"\\nTask Manager Menu:\")\n",
        "    print(\"1. View Tasks\")\n",
        "    print(\"2. Add Task\")\n",
        "    print(\"3. Complete Task\")\n",
        "    print(\"4. Remove Task\")\n",
        "    print(\"5. Sort Tasks\")\n",
        "    print(\"6. Exit\")\n",
        "\n",
        "    choice = input(\"Enter your choice (1-6): \")\n",
        "\n",
        "    if choice == \"1\":\n",
        "        print(\"\\nTasks:\")\n",
        "        if not tasks:\n",
        "            print(\"No tasks found.\")\n",
        "        else:\n",
        "            for index, task in enumerate(tasks, start=1):\n",
        "                print(f\"{index}. {task}\")\n",
        "    elif choice == \"2\":\n",
        "        task = input(\"Enter the new task: \")\n",
        "        tasks.append(task)\n",
        "        print(\"Task added successfully.\")\n",
        "    elif choice == \"3\":\n",
        "        print(\"\\nTasks:\")\n",
        "        if not tasks:\n",
        "            print(\"No tasks found.\")\n",
        "        else:\n",
        "            for index, task in enumerate(tasks, start=1):\n",
        "                print(f\"{index}. {task}\")\n",
        "        if not tasks:\n",
        "            continue\n",
        "        task_index = int(input(\"Enter the task number to mark as complete: \"))\n",
        "        if 1 <= task_index <= len(tasks):\n",
        "            completed_task = tasks.pop(task_index - 1)\n",
        "            print(f\"Task '{completed_task}' marked as complete.\")\n",
        "        else:\n",
        "            print(\"Invalid task number.\")\n",
        "    elif choice == \"4\":\n",
        "        print(\"\\nTasks:\")\n",
        "        if not tasks:\n",
        "            print(\"No tasks found.\")\n",
        "        else: #Get help from chatGPT\n",
        "            for index, task in enumerate(tasks, start=1):\n",
        "                print(f\"{index}. {task}\")\n",
        "        if not tasks:\n",
        "            continue\n",
        "        task_index = int(input(\"Enter the task number to remove: \"))\n",
        "        if 1 <= task_index <= len(tasks):\n",
        "            removed_task = tasks.pop(task_index - 1)\n",
        "            print(f\"Task '{removed_task}' removed.\")\n",
        "        else:\n",
        "            print(\"Invalid task number.\")\n",
        "    elif choice == \"5\":\n",
        "        tasks.sort()\n",
        "        print(\"Tasks sorted alphabetically.\")\n",
        "    elif choice == \"6\":\n",
        "        print(\"Exiting the Task Manager. Goodbye!\")\n",
        "        break\n",
        "    else:\n",
        "        print(\"Invalid choice. Please try again.\")\n"
      ],
      "metadata": {
        "colab": {
          "base_uri": "https://localhost:8080/"
        },
        "id": "rDRnjDGsZpY7",
        "outputId": "f005773a-9d81-4fc7-8855-a994063ad521"
      },
      "execution_count": null,
      "outputs": [
        {
          "output_type": "stream",
          "name": "stdout",
          "text": [
            "\n",
            "Task Manager Menu:\n",
            "1. View Tasks\n",
            "2. Add Task\n",
            "3. Complete Task\n",
            "4. Remove Task\n",
            "5. Sort Tasks\n",
            "6. Exit\n",
            "Enter your choice (1-6): 1\n",
            "\n",
            "Tasks:\n",
            "1. Read a book\n",
            "2. Write code\n",
            "3. Exercise\n",
            "\n",
            "Task Manager Menu:\n",
            "1. View Tasks\n",
            "2. Add Task\n",
            "3. Complete Task\n",
            "4. Remove Task\n",
            "5. Sort Tasks\n",
            "6. Exit\n",
            "Enter your choice (1-6): 6\n",
            "Exiting the Task Manager. Goodbye!\n"
          ]
        }
      ]
    }
  ]
}