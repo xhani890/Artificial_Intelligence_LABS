{
  "nbformat": 4,
  "nbformat_minor": 0,
  "metadata": {
    "colab": {
      "provenance": []
    },
    "kernelspec": {
      "name": "python3",
      "display_name": "Python 3"
    },
    "language_info": {
      "name": "python"
    }
  },
  "cells": [
    {
      "cell_type": "code",
      "execution_count": 6,
      "metadata": {
        "colab": {
          "base_uri": "https://localhost:8080/"
        },
        "id": "88GLYLYaVmyq",
        "outputId": "cba0b364-a957-4d23-a70d-a6717c9d7f0d"
      },
      "outputs": [
        {
          "output_type": "stream",
          "name": "stdout",
          "text": [
            "The sum of all arrays is: 55\n",
            "original array: [ 1  2  3  4  5  6  7  8  9 10 11 12 13 14 15 16 17 18 19 20]\n",
            "Number greater Than 5:  [ 6  7  8  9 10 11 12 13 14 15 16 17 18 19 20]\n",
            "Number less than 15 : [ 1  2  3  4  5  6  7  8  9 10 11 12 13 14]\n",
            "Original Set1: {0, 2, 4, 6, 8, 10}\n",
            "Original Set2: {1, 2, 3, 4, 5, 6, 7, 8, 9, 10}\n",
            "Set1: {0, 2, 4, 6, 8, 10}\n",
            "Set2: {1, 3, 4, 6, 7, 8, 9, 10}\n",
            "Set3: {8, 10, 4, 6}\n",
            "{'27668': {'Name': 'Bilal Ahmed', 'Age': 21, 'Semester': 'Seven'}, '54321': {'Name': 'Ahmed Sultan', 'Age': 20, 'Semester': 'Seven'}, '67890': {'Name': 'Shawar ahmed', 'Age': 19, 'Semester': 'Seven'}, '29876': {'Name': 'Hamid hamid', 'Age': 22, 'Semester': 'Seven'}, '21223': {'Name': 'Zeeshan Ahmed', 'Age': 23, 'Semester': 'Seven'}}\n"
          ]
        }
      ],
      "source": [
        "import numpy as np\n",
        "#1. Create Numpy array, split into 3 arrays then calculate sum of all arrays numbers.\n",
        "array = np.array([1, 2, 3, 4, 5, 6, 7, 8, 9, 10])\n",
        "arr1 = array[:3]\n",
        "arr2 = array[3:6]\n",
        "arr3 = array[6:]\n",
        "sum_of_arrays = np.sum(arr1) + np.sum(arr2) + np.sum(arr3)\n",
        "print(\"The sum of all arrays is:\", sum_of_arrays)\n",
        "\n",
        "#2. Create a NumPy array to extract all numbers greater than 5 and less than 15.\n",
        "new_array = np.arange(1, 21)\n",
        "print(\"original array:\",new_array)\n",
        "number_great = new_array[new_array>5]\n",
        "print(\"Number greater Than 5: \",number_great)\n",
        "number_less = new_array[new_array<15]\n",
        "print(\"Number less than 15 :\",number_less)\n",
        "\n",
        "#3. Create two sets (at least one set through constructor) set1 = {Even numbers (0~10)}, set2 = {Positive integers (1~10)}\n",
        "\n",
        "set1 = set(range(0, 11, 2))\n",
        "set2 = set(range(1, 11))\n",
        "print(\"Original Set1:\", set1)\n",
        "print(\"Original Set2:\", set2)\n",
        "\n",
        "set2.remove(2)\n",
        "set2.remove(5)\n",
        "\n",
        "set3 = set2.intersection(set1)\n",
        "\n",
        "print(\"Set1:\", set1)\n",
        "print(\"Set2:\", set2)\n",
        "print(\"Set3:\", set3)\n",
        "\n",
        "#4. Create a dictionary named “students”. Store 5 different students record into dictionary. For key used sapId of the student. Student record should contain: sapid, name, age and Semester (Six). Update the Semester (Six) to Semester (Seven).\n",
        "\n",
        "students = {\n",
        "    '27668': {'Name': 'Umar Waqar', 'Age': 21, 'Semester': 'Six'},\n",
        "    '54321': {'Name': 'Ahmed Sultan', 'Age': 20, 'Semester': 'Six'},\n",
        "    '67890': {'Name': 'Shawar ahmed', 'Age': 19, 'Semester': 'Six'},\n",
        "    '29876': {'Name': 'Hamid hamid', 'Age': 22, 'Semester': 'Six'},\n",
        "    '21223': {'Name': 'Zeeshan Ahmed', 'Age': 23, 'Semester': 'Six'}\n",
        "}\n",
        "\n",
        "for student in students.values():\n",
        "    student['Semester'] = 'Seven'\n",
        "\n",
        "print(students)\n"
      ]
    }
  ]
}
