{
  "nbformat": 4,
  "nbformat_minor": 0,
  "metadata": {
    "colab": {
      "provenance": []
    },
    "kernelspec": {
      "name": "python3",
      "display_name": "Python 3"
    },
    "language_info": {
      "name": "python"
    }
  },
  "cells": [
    {
      "cell_type": "markdown",
      "source": [
        "**Alpha-Beta Pruning**"
      ],
      "metadata": {
        "id": "zqioeAYy07Ro"
      }
    },
    {
      "cell_type": "code",
      "source": [
        "# Initial values of Alpha and Beta\n",
        "MAX, MIN = 1000, -1000\n",
        "\n",
        "# Returns optimal value for current player\n",
        "#(Initially called for root and maximizer)\n",
        "def minimax(depth, nodeIndex, maximizingPlayer, values, alpha, beta):\n",
        "\t# Terminating condition. i.e\n",
        "\t# leaf node is reached\n",
        "\tif depth == 3:\n",
        "\t\treturn values[nodeIndex]\n",
        "\tif maximizingPlayer:\n",
        "\t\tbest = MIN\n",
        "\t\t# Recur for left and right children\n",
        "\t\tfor i in range(0, 2):\n",
        "\t\t\tval = minimax(depth + 1, nodeIndex * 2 + i, False, values, alpha, beta)\n",
        "\t\t\tbest = max(best, val)\n",
        "\t\t\talpha = max(alpha, best)\n",
        "\t\t\t# Alpha Beta Pruning\n",
        "\t\t\tif beta <= alpha:\n",
        "\t\t\t\tbreak\n",
        "\t\treturn best\n",
        "\telse:\n",
        "\t\tbest = MAX\n",
        "\n",
        "\t\t# Recur for left and\n",
        "\t\t# right children\n",
        "\t\tfor i in range(0, 2):\n",
        "\n",
        "\t\t\tval = minimax(depth + 1, nodeIndex * 2 + i, True, values, alpha, beta)\n",
        "\t\t\tbest = min(best, val)\n",
        "\t\t\tbeta = min(beta, best)\n",
        "\t\t\t# Alpha Beta Pruning\n",
        "\t\t\tif beta <= alpha:\n",
        "\t\t\t\tbreak\n",
        "\t\treturn best\n",
        "\n",
        "# Driver Code\n",
        "if __name__ == \"__main__\":\n",
        "\n",
        "\tvalues = [3, 5, 6, 9, 1, 2, 0, -1]\n",
        "\tprint(\"The optimal value is :\", minimax(0, 0, True, values, MIN, MAX))\n"
      ],
      "metadata": {
        "colab": {
          "base_uri": "https://localhost:8080/"
        },
        "id": "7h6fGBc3076W",
        "outputId": "df6a467d-95cf-4e21-a3db-ec4346e6fa89"
      },
      "execution_count": null,
      "outputs": [
        {
          "output_type": "stream",
          "name": "stdout",
          "text": [
            "The optimal value is : 5\n"
          ]
        }
      ]
    }
  ]
}